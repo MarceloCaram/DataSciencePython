{
  "nbformat": 4,
  "nbformat_minor": 0,
  "metadata": {
    "colab": {
      "name": "Projeto Covid 19.ipynb",
      "provenance": [],
      "collapsed_sections": [],
      "toc_visible": true,
      "authorship_tag": "ABX9TyNNNi7P5brX46BBGiAZE893",
      "include_colab_link": true
    },
    "kernelspec": {
      "name": "python3",
      "display_name": "Python 3"
    }
  },
  "cells": [
    {
      "cell_type": "markdown",
      "metadata": {
        "id": "view-in-github",
        "colab_type": "text"
      },
      "source": [
        "<a href=\"https://colab.research.google.com/github/MarceloCaram/DataSciencePython/blob/master/Projeto_Covid_19.ipynb\" target=\"_parent\"><img src=\"https://colab.research.google.com/assets/colab-badge.svg\" alt=\"Open In Colab\"/></a>"
      ]
    },
    {
      "cell_type": "markdown",
      "metadata": {
        "id": "qtF9pYRzJ0-r",
        "colab_type": "text"
      },
      "source": [
        "<div id=\"ladoalado\"><img src=\"https://raw.githubusercontent.com/MarceloCaram/DataSciencePython/master/Covid19-02.jpg\" width=\"40%\">\n",
        "</div>\n",
        "\n",
        "***by Marcelo Caram***"
      ]
    },
    {
      "cell_type": "markdown",
      "metadata": {
        "id": "E6kvUyI3fNMv",
        "colab_type": "text"
      },
      "source": [
        "A COVID-19 é uma doença causada pelo coronavírus, denominado SARS-CoV-2, que apresenta um espectro clínico variando de infecções assintomáticas a quadros graves. De acordo com a Organização Mundial de Saúde, a maioria (cerca de 80%) dos pacientes com COVID-19 podem ser assintomáticos ou oligossintomáticos (poucos sintomas), e aproximadamente 20% dos casos detectados requer atendimento hospitalar por apresentarem dificuldade respiratória, dos quais aproximadamente 5% podem necessitar de suporte ventilatório.\n",
        "\n",
        "\n"
      ]
    },
    {
      "cell_type": "markdown",
      "metadata": {
        "id": "mqrPdoUgLkMU",
        "colab_type": "text"
      },
      "source": [
        "## Origem dos Dados\n",
        "Analisar um conjunto de dados com essa magnitude não é fácil ainda mais quando temos informações de diferentes fontes, sendo fontes oficiais e não oficiais. O conjunto de dados analisado abaixo foi pego da fonte **Our World in Data** através do link:\n",
        "* https://github.com/owid/covid-19-data/blob/master/public/data/owid-covid-data.csv\n",
        "\n",
        "\n",
        "### Dicionario do nosso DataSet\n",
        "Neste dataset possuímos várias informações que estão divididas entre linhas e colunas. Antes de analisar um dataset tão importante assim, temos que saber o que cada coluna deste dataset significa. Para saber quais são as descrições do dataset analisado basta acessar o seguinte link [Dicionário de Dados](https://github.com/owid/covid-19-data/blob/master/public/data/owid-covid-data-codebook.md)\n"
      ]
    },
    {
      "cell_type": "markdown",
      "metadata": {
        "id": "z6BndQ98ofI2",
        "colab_type": "text"
      },
      "source": [
        "##Análise do dataset COVID19 no mundo"
      ]
    },
    {
      "cell_type": "code",
      "metadata": {
        "id": "zf-R7zhmdR2t",
        "colab_type": "code",
        "colab": {}
      },
      "source": [
        "# Importação das duas principais libs deste artigo\n",
        "import pandas as pd\n",
        "import matplotlib.pyplot as  plt\n",
        "\n",
        "#importação do dataset dos dados de Covid para a variável dfCov\n",
        "dfCov = pd.read_csv('https://raw.githubusercontent.com/owid/covid-19-data/master/public/data/owid-covid-data.csv')"
      ],
      "execution_count": 176,
      "outputs": []
    },
    {
      "cell_type": "code",
      "metadata": {
        "id": "zwxjp57EketZ",
        "colab_type": "code",
        "colab": {
          "base_uri": "https://localhost:8080/",
          "height": 309
        },
        "outputId": "aa2d3728-4589-4720-9ec2-edd94152ecd3"
      },
      "source": [
        "#Analisando os 5 primeiros registros do nosso dataset\n",
        "dfCov.head()"
      ],
      "execution_count": 177,
      "outputs": [
        {
          "output_type": "execute_result",
          "data": {
            "text/html": [
              "<div>\n",
              "<style scoped>\n",
              "    .dataframe tbody tr th:only-of-type {\n",
              "        vertical-align: middle;\n",
              "    }\n",
              "\n",
              "    .dataframe tbody tr th {\n",
              "        vertical-align: top;\n",
              "    }\n",
              "\n",
              "    .dataframe thead th {\n",
              "        text-align: right;\n",
              "    }\n",
              "</style>\n",
              "<table border=\"1\" class=\"dataframe\">\n",
              "  <thead>\n",
              "    <tr style=\"text-align: right;\">\n",
              "      <th></th>\n",
              "      <th>iso_code</th>\n",
              "      <th>continent</th>\n",
              "      <th>location</th>\n",
              "      <th>date</th>\n",
              "      <th>total_cases</th>\n",
              "      <th>new_cases</th>\n",
              "      <th>total_deaths</th>\n",
              "      <th>new_deaths</th>\n",
              "      <th>total_cases_per_million</th>\n",
              "      <th>new_cases_per_million</th>\n",
              "      <th>total_deaths_per_million</th>\n",
              "      <th>new_deaths_per_million</th>\n",
              "      <th>total_tests</th>\n",
              "      <th>new_tests</th>\n",
              "      <th>total_tests_per_thousand</th>\n",
              "      <th>new_tests_per_thousand</th>\n",
              "      <th>new_tests_smoothed</th>\n",
              "      <th>new_tests_smoothed_per_thousand</th>\n",
              "      <th>tests_units</th>\n",
              "      <th>stringency_index</th>\n",
              "      <th>population</th>\n",
              "      <th>population_density</th>\n",
              "      <th>median_age</th>\n",
              "      <th>aged_65_older</th>\n",
              "      <th>aged_70_older</th>\n",
              "      <th>gdp_per_capita</th>\n",
              "      <th>extreme_poverty</th>\n",
              "      <th>cardiovasc_death_rate</th>\n",
              "      <th>diabetes_prevalence</th>\n",
              "      <th>female_smokers</th>\n",
              "      <th>male_smokers</th>\n",
              "      <th>handwashing_facilities</th>\n",
              "      <th>hospital_beds_per_thousand</th>\n",
              "      <th>life_expectancy</th>\n",
              "    </tr>\n",
              "  </thead>\n",
              "  <tbody>\n",
              "    <tr>\n",
              "      <th>0</th>\n",
              "      <td>AFG</td>\n",
              "      <td>Asia</td>\n",
              "      <td>Afghanistan</td>\n",
              "      <td>2019-12-31</td>\n",
              "      <td>0.0</td>\n",
              "      <td>0.0</td>\n",
              "      <td>0.0</td>\n",
              "      <td>0.0</td>\n",
              "      <td>0.0</td>\n",
              "      <td>0.0</td>\n",
              "      <td>0.0</td>\n",
              "      <td>0.0</td>\n",
              "      <td>NaN</td>\n",
              "      <td>NaN</td>\n",
              "      <td>NaN</td>\n",
              "      <td>NaN</td>\n",
              "      <td>NaN</td>\n",
              "      <td>NaN</td>\n",
              "      <td>NaN</td>\n",
              "      <td>NaN</td>\n",
              "      <td>38928341.0</td>\n",
              "      <td>54.422</td>\n",
              "      <td>18.6</td>\n",
              "      <td>2.581</td>\n",
              "      <td>1.337</td>\n",
              "      <td>1803.987</td>\n",
              "      <td>NaN</td>\n",
              "      <td>597.029</td>\n",
              "      <td>9.59</td>\n",
              "      <td>NaN</td>\n",
              "      <td>NaN</td>\n",
              "      <td>37.746</td>\n",
              "      <td>0.5</td>\n",
              "      <td>64.83</td>\n",
              "    </tr>\n",
              "    <tr>\n",
              "      <th>1</th>\n",
              "      <td>AFG</td>\n",
              "      <td>Asia</td>\n",
              "      <td>Afghanistan</td>\n",
              "      <td>2020-01-01</td>\n",
              "      <td>0.0</td>\n",
              "      <td>0.0</td>\n",
              "      <td>0.0</td>\n",
              "      <td>0.0</td>\n",
              "      <td>0.0</td>\n",
              "      <td>0.0</td>\n",
              "      <td>0.0</td>\n",
              "      <td>0.0</td>\n",
              "      <td>NaN</td>\n",
              "      <td>NaN</td>\n",
              "      <td>NaN</td>\n",
              "      <td>NaN</td>\n",
              "      <td>NaN</td>\n",
              "      <td>NaN</td>\n",
              "      <td>NaN</td>\n",
              "      <td>0.0</td>\n",
              "      <td>38928341.0</td>\n",
              "      <td>54.422</td>\n",
              "      <td>18.6</td>\n",
              "      <td>2.581</td>\n",
              "      <td>1.337</td>\n",
              "      <td>1803.987</td>\n",
              "      <td>NaN</td>\n",
              "      <td>597.029</td>\n",
              "      <td>9.59</td>\n",
              "      <td>NaN</td>\n",
              "      <td>NaN</td>\n",
              "      <td>37.746</td>\n",
              "      <td>0.5</td>\n",
              "      <td>64.83</td>\n",
              "    </tr>\n",
              "    <tr>\n",
              "      <th>2</th>\n",
              "      <td>AFG</td>\n",
              "      <td>Asia</td>\n",
              "      <td>Afghanistan</td>\n",
              "      <td>2020-01-02</td>\n",
              "      <td>0.0</td>\n",
              "      <td>0.0</td>\n",
              "      <td>0.0</td>\n",
              "      <td>0.0</td>\n",
              "      <td>0.0</td>\n",
              "      <td>0.0</td>\n",
              "      <td>0.0</td>\n",
              "      <td>0.0</td>\n",
              "      <td>NaN</td>\n",
              "      <td>NaN</td>\n",
              "      <td>NaN</td>\n",
              "      <td>NaN</td>\n",
              "      <td>NaN</td>\n",
              "      <td>NaN</td>\n",
              "      <td>NaN</td>\n",
              "      <td>0.0</td>\n",
              "      <td>38928341.0</td>\n",
              "      <td>54.422</td>\n",
              "      <td>18.6</td>\n",
              "      <td>2.581</td>\n",
              "      <td>1.337</td>\n",
              "      <td>1803.987</td>\n",
              "      <td>NaN</td>\n",
              "      <td>597.029</td>\n",
              "      <td>9.59</td>\n",
              "      <td>NaN</td>\n",
              "      <td>NaN</td>\n",
              "      <td>37.746</td>\n",
              "      <td>0.5</td>\n",
              "      <td>64.83</td>\n",
              "    </tr>\n",
              "    <tr>\n",
              "      <th>3</th>\n",
              "      <td>AFG</td>\n",
              "      <td>Asia</td>\n",
              "      <td>Afghanistan</td>\n",
              "      <td>2020-01-03</td>\n",
              "      <td>0.0</td>\n",
              "      <td>0.0</td>\n",
              "      <td>0.0</td>\n",
              "      <td>0.0</td>\n",
              "      <td>0.0</td>\n",
              "      <td>0.0</td>\n",
              "      <td>0.0</td>\n",
              "      <td>0.0</td>\n",
              "      <td>NaN</td>\n",
              "      <td>NaN</td>\n",
              "      <td>NaN</td>\n",
              "      <td>NaN</td>\n",
              "      <td>NaN</td>\n",
              "      <td>NaN</td>\n",
              "      <td>NaN</td>\n",
              "      <td>0.0</td>\n",
              "      <td>38928341.0</td>\n",
              "      <td>54.422</td>\n",
              "      <td>18.6</td>\n",
              "      <td>2.581</td>\n",
              "      <td>1.337</td>\n",
              "      <td>1803.987</td>\n",
              "      <td>NaN</td>\n",
              "      <td>597.029</td>\n",
              "      <td>9.59</td>\n",
              "      <td>NaN</td>\n",
              "      <td>NaN</td>\n",
              "      <td>37.746</td>\n",
              "      <td>0.5</td>\n",
              "      <td>64.83</td>\n",
              "    </tr>\n",
              "    <tr>\n",
              "      <th>4</th>\n",
              "      <td>AFG</td>\n",
              "      <td>Asia</td>\n",
              "      <td>Afghanistan</td>\n",
              "      <td>2020-01-04</td>\n",
              "      <td>0.0</td>\n",
              "      <td>0.0</td>\n",
              "      <td>0.0</td>\n",
              "      <td>0.0</td>\n",
              "      <td>0.0</td>\n",
              "      <td>0.0</td>\n",
              "      <td>0.0</td>\n",
              "      <td>0.0</td>\n",
              "      <td>NaN</td>\n",
              "      <td>NaN</td>\n",
              "      <td>NaN</td>\n",
              "      <td>NaN</td>\n",
              "      <td>NaN</td>\n",
              "      <td>NaN</td>\n",
              "      <td>NaN</td>\n",
              "      <td>0.0</td>\n",
              "      <td>38928341.0</td>\n",
              "      <td>54.422</td>\n",
              "      <td>18.6</td>\n",
              "      <td>2.581</td>\n",
              "      <td>1.337</td>\n",
              "      <td>1803.987</td>\n",
              "      <td>NaN</td>\n",
              "      <td>597.029</td>\n",
              "      <td>9.59</td>\n",
              "      <td>NaN</td>\n",
              "      <td>NaN</td>\n",
              "      <td>37.746</td>\n",
              "      <td>0.5</td>\n",
              "      <td>64.83</td>\n",
              "    </tr>\n",
              "  </tbody>\n",
              "</table>\n",
              "</div>"
            ],
            "text/plain": [
              "  iso_code continent  ... hospital_beds_per_thousand life_expectancy\n",
              "0      AFG      Asia  ...                        0.5           64.83\n",
              "1      AFG      Asia  ...                        0.5           64.83\n",
              "2      AFG      Asia  ...                        0.5           64.83\n",
              "3      AFG      Asia  ...                        0.5           64.83\n",
              "4      AFG      Asia  ...                        0.5           64.83\n",
              "\n",
              "[5 rows x 34 columns]"
            ]
          },
          "metadata": {
            "tags": []
          },
          "execution_count": 177
        }
      ]
    },
    {
      "cell_type": "code",
      "metadata": {
        "id": "k5cmiHdzkepJ",
        "colab_type": "code",
        "colab": {
          "base_uri": "https://localhost:8080/",
          "height": 68
        },
        "outputId": "3e85c5d9-6dba-438f-ebb5-53413693bb7e"
      },
      "source": [
        "#Verificando o tamanho do nosso dataset (linhas vs colunas)\n",
        "print('Tamanho do DataSet:',\n",
        "      '\\nLinhas \\t', dfCov.shape[0],\n",
        "      '\\nColunas\\t', dfCov.shape[1])"
      ],
      "execution_count": 178,
      "outputs": [
        {
          "output_type": "stream",
          "text": [
            "Tamanho do DataSet: \n",
            "Linhas \t 31494 \n",
            "Colunas\t 34\n"
          ],
          "name": "stdout"
        }
      ]
    },
    {
      "cell_type": "code",
      "metadata": {
        "id": "kyim_XuCkqs2",
        "colab_type": "code",
        "colab": {
          "base_uri": "https://localhost:8080/",
          "height": 221
        },
        "outputId": "67aa2c44-dee0-4be5-d0bd-6f634418226e"
      },
      "source": [
        "#Verificando as colunas existentes no nosso dataset.\n",
        "dfCov.columns"
      ],
      "execution_count": 179,
      "outputs": [
        {
          "output_type": "execute_result",
          "data": {
            "text/plain": [
              "Index(['iso_code', 'continent', 'location', 'date', 'total_cases', 'new_cases',\n",
              "       'total_deaths', 'new_deaths', 'total_cases_per_million',\n",
              "       'new_cases_per_million', 'total_deaths_per_million',\n",
              "       'new_deaths_per_million', 'total_tests', 'new_tests',\n",
              "       'total_tests_per_thousand', 'new_tests_per_thousand',\n",
              "       'new_tests_smoothed', 'new_tests_smoothed_per_thousand', 'tests_units',\n",
              "       'stringency_index', 'population', 'population_density', 'median_age',\n",
              "       'aged_65_older', 'aged_70_older', 'gdp_per_capita', 'extreme_poverty',\n",
              "       'cardiovasc_death_rate', 'diabetes_prevalence', 'female_smokers',\n",
              "       'male_smokers', 'handwashing_facilities', 'hospital_beds_per_thousand',\n",
              "       'life_expectancy'],\n",
              "      dtype='object')"
            ]
          },
          "metadata": {
            "tags": []
          },
          "execution_count": 179
        }
      ]
    },
    {
      "cell_type": "markdown",
      "metadata": {
        "id": "ZLhwyfL4VvdB",
        "colab_type": "text"
      },
      "source": [
        "O nome das colunas acima é exatamente o mesmo das colunas que estão no link [Dicionário de Dados](https://github.com/owid/covid-19-data/blob/master/public/data/owid-covid-data-codebook.md)"
      ]
    },
    {
      "cell_type": "code",
      "metadata": {
        "id": "CjiSzFJZkemM",
        "colab_type": "code",
        "colab": {
          "base_uri": "https://localhost:8080/",
          "height": 612
        },
        "outputId": "d4c6db8f-df96-409d-f4d4-3297db80ab35"
      },
      "source": [
        "#Verificando todos os tipos de cada coluna do nosso dataset\n",
        "dfCov.dtypes"
      ],
      "execution_count": 180,
      "outputs": [
        {
          "output_type": "execute_result",
          "data": {
            "text/plain": [
              "iso_code                            object\n",
              "continent                           object\n",
              "location                            object\n",
              "date                                object\n",
              "total_cases                        float64\n",
              "new_cases                          float64\n",
              "total_deaths                       float64\n",
              "new_deaths                         float64\n",
              "total_cases_per_million            float64\n",
              "new_cases_per_million              float64\n",
              "total_deaths_per_million           float64\n",
              "new_deaths_per_million             float64\n",
              "total_tests                        float64\n",
              "new_tests                          float64\n",
              "total_tests_per_thousand           float64\n",
              "new_tests_per_thousand             float64\n",
              "new_tests_smoothed                 float64\n",
              "new_tests_smoothed_per_thousand    float64\n",
              "tests_units                         object\n",
              "stringency_index                   float64\n",
              "population                         float64\n",
              "population_density                 float64\n",
              "median_age                         float64\n",
              "aged_65_older                      float64\n",
              "aged_70_older                      float64\n",
              "gdp_per_capita                     float64\n",
              "extreme_poverty                    float64\n",
              "cardiovasc_death_rate              float64\n",
              "diabetes_prevalence                float64\n",
              "female_smokers                     float64\n",
              "male_smokers                       float64\n",
              "handwashing_facilities             float64\n",
              "hospital_beds_per_thousand         float64\n",
              "life_expectancy                    float64\n",
              "dtype: object"
            ]
          },
          "metadata": {
            "tags": []
          },
          "execution_count": 180
        }
      ]
    },
    {
      "cell_type": "markdown",
      "metadata": {
        "id": "T5f3xTcrrNVG",
        "colab_type": "text"
      },
      "source": [
        "Como podemos observar acima a coluna **date** tem o tipo string. Datas com tipo string são ruins para realizar filtros e análises nos datasets. **Abaixo vamos converter o valor da coluna date(do tipo object) PARA date(do tipo data).**"
      ]
    },
    {
      "cell_type": "code",
      "metadata": {
        "id": "9Hp6dKdbrQ6z",
        "colab_type": "code",
        "colab": {}
      },
      "source": [
        "#Converter a coluna \"date\" em data. Inicialmente a coluna estava no dataset como string (object)\n",
        "dfCov.date = pd.to_datetime(dfCov.date)"
      ],
      "execution_count": 181,
      "outputs": []
    },
    {
      "cell_type": "markdown",
      "metadata": {
        "id": "srpkz90QW5Cb",
        "colab_type": "text"
      },
      "source": [
        "Como temos um dataset de diferentes fontes de informação e não sabemos como e por quem foi preenchido, precisamos saber qual o percentual de colunas onde os valores são nulos. Isso pode influenciar direto no resultado final da nossa análise."
      ]
    },
    {
      "cell_type": "code",
      "metadata": {
        "id": "jm8osMT6elUR",
        "colab_type": "code",
        "colab": {
          "base_uri": "https://localhost:8080/",
          "height": 612
        },
        "outputId": "6ad61585-9f9d-4491-efd9-7f27a7362bd4"
      },
      "source": [
        "#Obtendo valores nulos do nosso dataset em percentual e order descrecente \n",
        "((dfCov.isnull().sum() / dfCov.shape[0])*100).sort_values(ascending=False)"
      ],
      "execution_count": 182,
      "outputs": [
        {
          "output_type": "execute_result",
          "data": {
            "text/plain": [
              "new_tests                          69.648187\n",
              "new_tests_per_thousand             69.648187\n",
              "total_tests_per_thousand           68.762304\n",
              "total_tests                        68.762304\n",
              "new_tests_smoothed_per_thousand    66.057027\n",
              "new_tests_smoothed                 66.057027\n",
              "tests_units                        63.650219\n",
              "handwashing_facilities             58.925510\n",
              "extreme_poverty                    40.490252\n",
              "male_smokers                       29.145234\n",
              "female_smokers                     28.294278\n",
              "stringency_index                   19.133803\n",
              "hospital_beds_per_thousand         17.943100\n",
              "aged_65_older                      11.224360\n",
              "gdp_per_capita                     11.002096\n",
              "aged_70_older                      10.392456\n",
              "median_age                          9.928875\n",
              "cardiovasc_death_rate               9.878072\n",
              "diabetes_prevalence                 6.855274\n",
              "population_density                  4.467518\n",
              "life_expectancy                     1.393916\n",
              "new_deaths_per_million              1.231981\n",
              "total_deaths_per_million            1.231981\n",
              "new_cases_per_million               1.231981\n",
              "total_cases_per_million             1.231981\n",
              "new_deaths                          1.028767\n",
              "total_deaths                        1.028767\n",
              "new_cases                           1.028767\n",
              "total_cases                         1.028767\n",
              "continent                           0.847781\n",
              "population                          0.203213\n",
              "iso_code                            0.203213\n",
              "date                                0.000000\n",
              "location                            0.000000\n",
              "dtype: float64"
            ]
          },
          "metadata": {
            "tags": []
          },
          "execution_count": 182
        }
      ]
    },
    {
      "cell_type": "markdown",
      "metadata": {
        "id": "w-zGAYwRYvWC",
        "colab_type": "text"
      },
      "source": [
        "Abaixo vamos verificar para data mais atual do nosso dataset (20/07/2020) quais são os registros e seus valores consequentemente. Listamos os valores para a data mais atual em ordem descrecente de **total de casos**. **Lembrando que acima convertemos a coluna date de string para data, pois isso falicita a nossa busca.** Também usamos o comando **LOC** que serve para filtrar valores específicos. Neste caso utilizamos a data como informação de filtro."
      ]
    },
    {
      "cell_type": "code",
      "metadata": {
        "id": "2GR8LCvivxJU",
        "colab_type": "code",
        "colab": {
          "base_uri": "https://localhost:8080/",
          "height": 357
        },
        "outputId": "e2e1b85e-c5a3-4e91-f05e-bcf804f66a89"
      },
      "source": [
        "dfCov.loc[dfCov.date=='2020-07-20'].sort_values(by='total_cases', ascending=False)[0:6]"
      ],
      "execution_count": 183,
      "outputs": [
        {
          "output_type": "execute_result",
          "data": {
            "text/html": [
              "<div>\n",
              "<style scoped>\n",
              "    .dataframe tbody tr th:only-of-type {\n",
              "        vertical-align: middle;\n",
              "    }\n",
              "\n",
              "    .dataframe tbody tr th {\n",
              "        vertical-align: top;\n",
              "    }\n",
              "\n",
              "    .dataframe thead th {\n",
              "        text-align: right;\n",
              "    }\n",
              "</style>\n",
              "<table border=\"1\" class=\"dataframe\">\n",
              "  <thead>\n",
              "    <tr style=\"text-align: right;\">\n",
              "      <th></th>\n",
              "      <th>iso_code</th>\n",
              "      <th>continent</th>\n",
              "      <th>location</th>\n",
              "      <th>date</th>\n",
              "      <th>total_cases</th>\n",
              "      <th>new_cases</th>\n",
              "      <th>total_deaths</th>\n",
              "      <th>new_deaths</th>\n",
              "      <th>total_cases_per_million</th>\n",
              "      <th>new_cases_per_million</th>\n",
              "      <th>total_deaths_per_million</th>\n",
              "      <th>new_deaths_per_million</th>\n",
              "      <th>total_tests</th>\n",
              "      <th>new_tests</th>\n",
              "      <th>total_tests_per_thousand</th>\n",
              "      <th>new_tests_per_thousand</th>\n",
              "      <th>new_tests_smoothed</th>\n",
              "      <th>new_tests_smoothed_per_thousand</th>\n",
              "      <th>tests_units</th>\n",
              "      <th>stringency_index</th>\n",
              "      <th>population</th>\n",
              "      <th>population_density</th>\n",
              "      <th>median_age</th>\n",
              "      <th>aged_65_older</th>\n",
              "      <th>aged_70_older</th>\n",
              "      <th>gdp_per_capita</th>\n",
              "      <th>extreme_poverty</th>\n",
              "      <th>cardiovasc_death_rate</th>\n",
              "      <th>diabetes_prevalence</th>\n",
              "      <th>female_smokers</th>\n",
              "      <th>male_smokers</th>\n",
              "      <th>handwashing_facilities</th>\n",
              "      <th>hospital_beds_per_thousand</th>\n",
              "      <th>life_expectancy</th>\n",
              "    </tr>\n",
              "  </thead>\n",
              "  <tbody>\n",
              "    <tr>\n",
              "      <th>31429</th>\n",
              "      <td>OWID_WRL</td>\n",
              "      <td>NaN</td>\n",
              "      <td>World</td>\n",
              "      <td>2020-07-20</td>\n",
              "      <td>14476729.0</td>\n",
              "      <td>207701.0</td>\n",
              "      <td>605979.0</td>\n",
              "      <td>3942.0</td>\n",
              "      <td>1857.229</td>\n",
              "      <td>26.646</td>\n",
              "      <td>77.741</td>\n",
              "      <td>0.506</td>\n",
              "      <td>NaN</td>\n",
              "      <td>NaN</td>\n",
              "      <td>NaN</td>\n",
              "      <td>NaN</td>\n",
              "      <td>NaN</td>\n",
              "      <td>NaN</td>\n",
              "      <td>NaN</td>\n",
              "      <td>NaN</td>\n",
              "      <td>7.794799e+09</td>\n",
              "      <td>58.045</td>\n",
              "      <td>30.9</td>\n",
              "      <td>8.696</td>\n",
              "      <td>5.355</td>\n",
              "      <td>15469.207</td>\n",
              "      <td>10.0</td>\n",
              "      <td>233.070</td>\n",
              "      <td>8.51</td>\n",
              "      <td>6.434</td>\n",
              "      <td>34.635</td>\n",
              "      <td>60.130</td>\n",
              "      <td>2.705</td>\n",
              "      <td>72.58</td>\n",
              "    </tr>\n",
              "    <tr>\n",
              "      <th>29961</th>\n",
              "      <td>USA</td>\n",
              "      <td>North America</td>\n",
              "      <td>United States</td>\n",
              "      <td>2020-07-20</td>\n",
              "      <td>3773260.0</td>\n",
              "      <td>61796.0</td>\n",
              "      <td>140534.0</td>\n",
              "      <td>415.0</td>\n",
              "      <td>11399.486</td>\n",
              "      <td>186.693</td>\n",
              "      <td>424.571</td>\n",
              "      <td>1.254</td>\n",
              "      <td>NaN</td>\n",
              "      <td>NaN</td>\n",
              "      <td>NaN</td>\n",
              "      <td>NaN</td>\n",
              "      <td>NaN</td>\n",
              "      <td>NaN</td>\n",
              "      <td>NaN</td>\n",
              "      <td>57.87</td>\n",
              "      <td>3.310026e+08</td>\n",
              "      <td>35.608</td>\n",
              "      <td>38.3</td>\n",
              "      <td>15.413</td>\n",
              "      <td>9.732</td>\n",
              "      <td>54225.446</td>\n",
              "      <td>1.2</td>\n",
              "      <td>151.089</td>\n",
              "      <td>10.79</td>\n",
              "      <td>19.100</td>\n",
              "      <td>24.600</td>\n",
              "      <td>NaN</td>\n",
              "      <td>2.770</td>\n",
              "      <td>78.86</td>\n",
              "    </tr>\n",
              "    <tr>\n",
              "      <th>4244</th>\n",
              "      <td>BRA</td>\n",
              "      <td>South America</td>\n",
              "      <td>Brazil</td>\n",
              "      <td>2020-07-20</td>\n",
              "      <td>2098389.0</td>\n",
              "      <td>23529.0</td>\n",
              "      <td>79488.0</td>\n",
              "      <td>716.0</td>\n",
              "      <td>9872.012</td>\n",
              "      <td>110.694</td>\n",
              "      <td>373.957</td>\n",
              "      <td>3.368</td>\n",
              "      <td>NaN</td>\n",
              "      <td>NaN</td>\n",
              "      <td>NaN</td>\n",
              "      <td>NaN</td>\n",
              "      <td>NaN</td>\n",
              "      <td>NaN</td>\n",
              "      <td>NaN</td>\n",
              "      <td>NaN</td>\n",
              "      <td>2.125594e+08</td>\n",
              "      <td>25.040</td>\n",
              "      <td>33.5</td>\n",
              "      <td>8.552</td>\n",
              "      <td>5.060</td>\n",
              "      <td>14103.452</td>\n",
              "      <td>3.4</td>\n",
              "      <td>177.961</td>\n",
              "      <td>8.11</td>\n",
              "      <td>10.100</td>\n",
              "      <td>17.900</td>\n",
              "      <td>NaN</td>\n",
              "      <td>2.200</td>\n",
              "      <td>75.88</td>\n",
              "    </tr>\n",
              "    <tr>\n",
              "      <th>13361</th>\n",
              "      <td>IND</td>\n",
              "      <td>Asia</td>\n",
              "      <td>India</td>\n",
              "      <td>2020-07-20</td>\n",
              "      <td>1118043.0</td>\n",
              "      <td>40425.0</td>\n",
              "      <td>27497.0</td>\n",
              "      <td>681.0</td>\n",
              "      <td>810.174</td>\n",
              "      <td>29.293</td>\n",
              "      <td>19.925</td>\n",
              "      <td>0.493</td>\n",
              "      <td>NaN</td>\n",
              "      <td>NaN</td>\n",
              "      <td>NaN</td>\n",
              "      <td>NaN</td>\n",
              "      <td>NaN</td>\n",
              "      <td>NaN</td>\n",
              "      <td>NaN</td>\n",
              "      <td>NaN</td>\n",
              "      <td>1.380004e+09</td>\n",
              "      <td>450.419</td>\n",
              "      <td>28.2</td>\n",
              "      <td>5.989</td>\n",
              "      <td>3.414</td>\n",
              "      <td>6426.674</td>\n",
              "      <td>21.2</td>\n",
              "      <td>282.280</td>\n",
              "      <td>10.39</td>\n",
              "      <td>1.900</td>\n",
              "      <td>20.600</td>\n",
              "      <td>59.550</td>\n",
              "      <td>0.530</td>\n",
              "      <td>69.66</td>\n",
              "    </tr>\n",
              "    <tr>\n",
              "      <th>23765</th>\n",
              "      <td>RUS</td>\n",
              "      <td>Europe</td>\n",
              "      <td>Russia</td>\n",
              "      <td>2020-07-20</td>\n",
              "      <td>771546.0</td>\n",
              "      <td>0.0</td>\n",
              "      <td>12342.0</td>\n",
              "      <td>0.0</td>\n",
              "      <td>5286.935</td>\n",
              "      <td>0.000</td>\n",
              "      <td>84.572</td>\n",
              "      <td>0.000</td>\n",
              "      <td>NaN</td>\n",
              "      <td>NaN</td>\n",
              "      <td>NaN</td>\n",
              "      <td>NaN</td>\n",
              "      <td>NaN</td>\n",
              "      <td>NaN</td>\n",
              "      <td>NaN</td>\n",
              "      <td>NaN</td>\n",
              "      <td>1.459345e+08</td>\n",
              "      <td>8.823</td>\n",
              "      <td>39.6</td>\n",
              "      <td>14.178</td>\n",
              "      <td>9.393</td>\n",
              "      <td>24765.954</td>\n",
              "      <td>0.1</td>\n",
              "      <td>431.297</td>\n",
              "      <td>6.18</td>\n",
              "      <td>23.400</td>\n",
              "      <td>58.300</td>\n",
              "      <td>NaN</td>\n",
              "      <td>8.050</td>\n",
              "      <td>72.58</td>\n",
              "    </tr>\n",
              "    <tr>\n",
              "      <th>26108</th>\n",
              "      <td>ZAF</td>\n",
              "      <td>Africa</td>\n",
              "      <td>South Africa</td>\n",
              "      <td>2020-07-20</td>\n",
              "      <td>364328.0</td>\n",
              "      <td>13449.0</td>\n",
              "      <td>5033.0</td>\n",
              "      <td>85.0</td>\n",
              "      <td>6142.911</td>\n",
              "      <td>226.763</td>\n",
              "      <td>84.861</td>\n",
              "      <td>1.433</td>\n",
              "      <td>NaN</td>\n",
              "      <td>NaN</td>\n",
              "      <td>NaN</td>\n",
              "      <td>NaN</td>\n",
              "      <td>NaN</td>\n",
              "      <td>NaN</td>\n",
              "      <td>NaN</td>\n",
              "      <td>NaN</td>\n",
              "      <td>5.930869e+07</td>\n",
              "      <td>46.754</td>\n",
              "      <td>27.3</td>\n",
              "      <td>5.344</td>\n",
              "      <td>3.053</td>\n",
              "      <td>12294.876</td>\n",
              "      <td>18.9</td>\n",
              "      <td>200.380</td>\n",
              "      <td>5.52</td>\n",
              "      <td>8.100</td>\n",
              "      <td>33.200</td>\n",
              "      <td>43.993</td>\n",
              "      <td>2.320</td>\n",
              "      <td>64.13</td>\n",
              "    </tr>\n",
              "  </tbody>\n",
              "</table>\n",
              "</div>"
            ],
            "text/plain": [
              "       iso_code      continent  ... hospital_beds_per_thousand life_expectancy\n",
              "31429  OWID_WRL            NaN  ...                      2.705           72.58\n",
              "29961       USA  North America  ...                      2.770           78.86\n",
              "4244        BRA  South America  ...                      2.200           75.88\n",
              "13361       IND           Asia  ...                      0.530           69.66\n",
              "23765       RUS         Europe  ...                      8.050           72.58\n",
              "26108       ZAF         Africa  ...                      2.320           64.13\n",
              "\n",
              "[6 rows x 34 columns]"
            ]
          },
          "metadata": {
            "tags": []
          },
          "execution_count": 183
        }
      ]
    },
    {
      "cell_type": "markdown",
      "metadata": {
        "id": "zdgVC5-Smry3",
        "colab_type": "text"
      },
      "source": [
        "Pela data mais atual colocada no filtro (20/07/2020), podemos dizer que as cinco maiores localidades com total de casos do Covid19 são:\n",
        "\n",
        "*   Estados Unidos com 3.773.260\n",
        "*   Brasil com 2.098.389\n",
        "*   India com 1.118.043\n",
        "*   Rússia com 771.546\n",
        "*   Africa do Sul com 364.328"
      ]
    },
    {
      "cell_type": "markdown",
      "metadata": {
        "id": "zgQWXT5KaIR9",
        "colab_type": "text"
      },
      "source": [
        "Executando o comando acima usando a função LOC filtrando a data mais atual podemos observar que no dataset temos uma coluna chamada **location** com o valor **World**. Essa linha foi criada como um totalizador de todas as colunas voltados para o mundo.\n",
        "\n",
        "Ao executar o comando abaixo pegamos as **5 maiores localizações** para a coluna **total_deaths**. Como fizemos o comando em ordem descrescente não pegamos a posição ZERO, pois para a coluna **total_deaths** a localização World sempre será a maior e não será considerado esse valor no gráfico. Por esse motivo começamos no 1."
      ]
    },
    {
      "cell_type": "code",
      "metadata": {
        "id": "Zk-119NNn3sA",
        "colab_type": "code",
        "colab": {
          "base_uri": "https://localhost:8080/",
          "height": 204
        },
        "outputId": "8aa4d395-6e4c-4aca-d40d-d51386754fd7"
      },
      "source": [
        "#Listando as cincos maiores localizações em ordem descrescente de Total de Mortes \n",
        "dfCov.loc[dfCov.date == '2020-07-20', ['location', 'total_deaths']].sort_values(by=\"total_deaths\", ascending=False)[1:6]"
      ],
      "execution_count": 184,
      "outputs": [
        {
          "output_type": "execute_result",
          "data": {
            "text/html": [
              "<div>\n",
              "<style scoped>\n",
              "    .dataframe tbody tr th:only-of-type {\n",
              "        vertical-align: middle;\n",
              "    }\n",
              "\n",
              "    .dataframe tbody tr th {\n",
              "        vertical-align: top;\n",
              "    }\n",
              "\n",
              "    .dataframe thead th {\n",
              "        text-align: right;\n",
              "    }\n",
              "</style>\n",
              "<table border=\"1\" class=\"dataframe\">\n",
              "  <thead>\n",
              "    <tr style=\"text-align: right;\">\n",
              "      <th></th>\n",
              "      <th>location</th>\n",
              "      <th>total_deaths</th>\n",
              "    </tr>\n",
              "  </thead>\n",
              "  <tbody>\n",
              "    <tr>\n",
              "      <th>29961</th>\n",
              "      <td>United States</td>\n",
              "      <td>140534.0</td>\n",
              "    </tr>\n",
              "    <tr>\n",
              "      <th>4244</th>\n",
              "      <td>Brazil</td>\n",
              "      <td>79488.0</td>\n",
              "    </tr>\n",
              "    <tr>\n",
              "      <th>29758</th>\n",
              "      <td>United Kingdom</td>\n",
              "      <td>45300.0</td>\n",
              "    </tr>\n",
              "    <tr>\n",
              "      <th>18796</th>\n",
              "      <td>Mexico</td>\n",
              "      <td>39184.0</td>\n",
              "    </tr>\n",
              "    <tr>\n",
              "      <th>14690</th>\n",
              "      <td>Italy</td>\n",
              "      <td>35045.0</td>\n",
              "    </tr>\n",
              "  </tbody>\n",
              "</table>\n",
              "</div>"
            ],
            "text/plain": [
              "             location  total_deaths\n",
              "29961   United States      140534.0\n",
              "4244           Brazil       79488.0\n",
              "29758  United Kingdom       45300.0\n",
              "18796          Mexico       39184.0\n",
              "14690           Italy       35045.0"
            ]
          },
          "metadata": {
            "tags": []
          },
          "execution_count": 184
        }
      ]
    },
    {
      "cell_type": "markdown",
      "metadata": {
        "id": "RQWu4FxnhXEM",
        "colab_type": "text"
      },
      "source": [
        "Abaixo foi utilizado uma variação de como usar o comando LOC com mais de um filtro. Usamos as colunas date e location. Selecionamos apenas as informações de quantidade de casos existentes e novos casos no mundo."
      ]
    },
    {
      "cell_type": "code",
      "metadata": {
        "id": "AeJ68FeOhUjE",
        "colab_type": "code",
        "colab": {
          "base_uri": "https://localhost:8080/",
          "height": 80
        },
        "outputId": "b0a67bed-111e-4d3f-da0b-62d1c37e9255"
      },
      "source": [
        "#Comando LOC com mais de um filtro. No caso foi considerado a coluna \"date\" e \"location\"\n",
        "dfCov.loc[(dfCov.date=='2020-07-20') & (dfCov.location=='World'),['iso_code','location','total_cases','new_cases']]"
      ],
      "execution_count": 185,
      "outputs": [
        {
          "output_type": "execute_result",
          "data": {
            "text/html": [
              "<div>\n",
              "<style scoped>\n",
              "    .dataframe tbody tr th:only-of-type {\n",
              "        vertical-align: middle;\n",
              "    }\n",
              "\n",
              "    .dataframe tbody tr th {\n",
              "        vertical-align: top;\n",
              "    }\n",
              "\n",
              "    .dataframe thead th {\n",
              "        text-align: right;\n",
              "    }\n",
              "</style>\n",
              "<table border=\"1\" class=\"dataframe\">\n",
              "  <thead>\n",
              "    <tr style=\"text-align: right;\">\n",
              "      <th></th>\n",
              "      <th>iso_code</th>\n",
              "      <th>location</th>\n",
              "      <th>total_cases</th>\n",
              "      <th>new_cases</th>\n",
              "    </tr>\n",
              "  </thead>\n",
              "  <tbody>\n",
              "    <tr>\n",
              "      <th>31429</th>\n",
              "      <td>OWID_WRL</td>\n",
              "      <td>World</td>\n",
              "      <td>14476729.0</td>\n",
              "      <td>207701.0</td>\n",
              "    </tr>\n",
              "  </tbody>\n",
              "</table>\n",
              "</div>"
            ],
            "text/plain": [
              "       iso_code location  total_cases  new_cases\n",
              "31429  OWID_WRL    World   14476729.0   207701.0"
            ]
          },
          "metadata": {
            "tags": []
          },
          "execution_count": 185
        }
      ]
    },
    {
      "cell_type": "markdown",
      "metadata": {
        "id": "WN7tG9twiEgQ",
        "colab_type": "text"
      },
      "source": [
        "Abaixo vamos plotar um gráfico do tipo de barras considerando as cinco maiores localidades com total de mortes pelo COVID19 até a presente data."
      ]
    },
    {
      "cell_type": "code",
      "metadata": {
        "id": "iTFhBJYBl6q-",
        "colab_type": "code",
        "colab": {
          "base_uri": "https://localhost:8080/",
          "height": 585
        },
        "outputId": "60ff6dc5-9f45-4d67-e340-eed0141f7252"
      },
      "source": [
        "top5_total_deaths = dfCov.loc[dfCov.date == '2020-07-20', ['location', 'total_deaths']].sort_values(by=\"total_deaths\", ascending=False)[1:6]\n",
        "\n",
        "fig, ax = plt.subplots( figsize=(10,8))\n",
        "\n",
        "ax.bar('location', 'total_deaths',  data=top5_total_deaths)\n",
        "ax.set_title('Evolução das mortes vs 5 maiores localidade')\n",
        "ax.set_xlabel('Localidade')\n",
        "ax.set_ylabel('Mortes')\n",
        "\n",
        "plt.tight_layout()\n"
      ],
      "execution_count": 186,
      "outputs": [
        {
          "output_type": "display_data",
          "data": {
            "image/png": "[encoded data removed]",
            "text/plain": [
              "<Figure size 720x576 with 1 Axes>"
            ]
          },
          "metadata": {
            "tags": [],
            "needs_background": "light"
          }
        }
      ]
    },
    {
      "cell_type": "markdown",
      "metadata": {
        "id": "dGaJWUFKoLma",
        "colab_type": "text"
      },
      "source": [
        "###Qual a progressão do virus no mundo?\n",
        "\n",
        "Não devemos nos preocupar somente com as medidas de segurança sobre infecção do covid19. As autoridades e a população mundial também deve se preocupar com a progressão do virus.\n",
        "\n",
        "Um das formas mais eficientes de vermos esse número é através do gráfico de linhas. Portanto vamos plotar um gráfico de linhas para demonstrarmos a evolução de mortes no mundo."
      ]
    },
    {
      "cell_type": "code",
      "metadata": {
        "id": "cDJ1-1h3wqMA",
        "colab_type": "code",
        "colab": {
          "base_uri": "https://localhost:8080/",
          "height": 585
        },
        "outputId": "8310a957-5f1e-4898-9608-01ba1bea7539"
      },
      "source": [
        "dfCov.loc[dfCov.location == \"World\", \"total_deaths\"].reset_index(drop=True).plot(figsize=(8,8))\n",
        "plt.tight_layout()"
      ],
      "execution_count": 187,
      "outputs": [
        {
          "output_type": "display_data",
          "data": {
            "image/png": "[encoded data removed]",
            "text/plain": [
              "<Figure size 576x576 with 1 Axes>"
            ]
          },
          "metadata": {
            "tags": [],
            "needs_background": "light"
          }
        }
      ]
    },
    {
      "cell_type": "markdown",
      "metadata": {
        "id": "9Msuh8oPrSZe",
        "colab_type": "text"
      },
      "source": [
        "### Análises de Outliers no dataset\n",
        "\n",
        "Para que possamos passar uma informação para o leitor, este artigo devemos considerar possíveis Outliers no nosso dataset. **Lembrando que Outliers são dados discrepantes que destoam do cojunto de dados analisado.**"
      ]
    },
    {
      "cell_type": "markdown",
      "metadata": {
        "id": "WQSUHFiSs3XT",
        "colab_type": "text"
      },
      "source": [
        "#### Qual o tipo de distribuição das variáveis?\n",
        "\n",
        "Para identificar a distribuição das variáveis, irei colocar a tabela abaixo e plotar o gráfico de histograma em seguida apenas da coluna **new_deaths**."
      ]
    },
    {
      "cell_type": "code",
      "metadata": {
        "id": "7SsydrLjqz43",
        "colab_type": "code",
        "colab": {
          "base_uri": "https://localhost:8080/",
          "height": 317
        },
        "outputId": "bcb719e7-ec50-480e-8d8c-92ac9908da05"
      },
      "source": [
        "dfCov.describe().round(1)"
      ],
      "execution_count": 188,
      "outputs": [
        {
          "output_type": "execute_result",
          "data": {
            "text/html": [
              "<div>\n",
              "<style scoped>\n",
              "    .dataframe tbody tr th:only-of-type {\n",
              "        vertical-align: middle;\n",
              "    }\n",
              "\n",
              "    .dataframe tbody tr th {\n",
              "        vertical-align: top;\n",
              "    }\n",
              "\n",
              "    .dataframe thead th {\n",
              "        text-align: right;\n",
              "    }\n",
              "</style>\n",
              "<table border=\"1\" class=\"dataframe\">\n",
              "  <thead>\n",
              "    <tr style=\"text-align: right;\">\n",
              "      <th></th>\n",
              "      <th>total_cases</th>\n",
              "      <th>new_cases</th>\n",
              "      <th>total_deaths</th>\n",
              "      <th>new_deaths</th>\n",
              "      <th>total_cases_per_million</th>\n",
              "      <th>new_cases_per_million</th>\n",
              "      <th>total_deaths_per_million</th>\n",
              "      <th>new_deaths_per_million</th>\n",
              "      <th>total_tests</th>\n",
              "      <th>new_tests</th>\n",
              "      <th>total_tests_per_thousand</th>\n",
              "      <th>new_tests_per_thousand</th>\n",
              "      <th>new_tests_smoothed</th>\n",
              "      <th>new_tests_smoothed_per_thousand</th>\n",
              "      <th>stringency_index</th>\n",
              "      <th>population</th>\n",
              "      <th>population_density</th>\n",
              "      <th>median_age</th>\n",
              "      <th>aged_65_older</th>\n",
              "      <th>aged_70_older</th>\n",
              "      <th>gdp_per_capita</th>\n",
              "      <th>extreme_poverty</th>\n",
              "      <th>cardiovasc_death_rate</th>\n",
              "      <th>diabetes_prevalence</th>\n",
              "      <th>female_smokers</th>\n",
              "      <th>male_smokers</th>\n",
              "      <th>handwashing_facilities</th>\n",
              "      <th>hospital_beds_per_thousand</th>\n",
              "      <th>life_expectancy</th>\n",
              "    </tr>\n",
              "  </thead>\n",
              "  <tbody>\n",
              "    <tr>\n",
              "      <th>count</th>\n",
              "      <td>31170.0</td>\n",
              "      <td>31170.0</td>\n",
              "      <td>31170.0</td>\n",
              "      <td>31170.0</td>\n",
              "      <td>31106.0</td>\n",
              "      <td>31106.0</td>\n",
              "      <td>31106.0</td>\n",
              "      <td>31106.0</td>\n",
              "      <td>9838.0</td>\n",
              "      <td>9559.0</td>\n",
              "      <td>9838.0</td>\n",
              "      <td>9559.0</td>\n",
              "      <td>10690.0</td>\n",
              "      <td>10690.0</td>\n",
              "      <td>25468.0</td>\n",
              "      <td>3.143000e+04</td>\n",
              "      <td>30087.0</td>\n",
              "      <td>28367.0</td>\n",
              "      <td>27959.0</td>\n",
              "      <td>28221.0</td>\n",
              "      <td>28029.0</td>\n",
              "      <td>18742.0</td>\n",
              "      <td>28383.0</td>\n",
              "      <td>29335.0</td>\n",
              "      <td>22583.0</td>\n",
              "      <td>22315.0</td>\n",
              "      <td>12936.0</td>\n",
              "      <td>25843.0</td>\n",
              "      <td>31055.0</td>\n",
              "    </tr>\n",
              "    <tr>\n",
              "      <th>mean</th>\n",
              "      <td>44931.5</td>\n",
              "      <td>928.9</td>\n",
              "      <td>2449.3</td>\n",
              "      <td>38.9</td>\n",
              "      <td>1008.1</td>\n",
              "      <td>17.1</td>\n",
              "      <td>38.5</td>\n",
              "      <td>0.5</td>\n",
              "      <td>730939.5</td>\n",
              "      <td>16189.1</td>\n",
              "      <td>30.3</td>\n",
              "      <td>0.6</td>\n",
              "      <td>15301.9</td>\n",
              "      <td>0.6</td>\n",
              "      <td>58.3</td>\n",
              "      <td>9.571084e+07</td>\n",
              "      <td>369.8</td>\n",
              "      <td>31.7</td>\n",
              "      <td>9.5</td>\n",
              "      <td>6.0</td>\n",
              "      <td>21672.5</td>\n",
              "      <td>11.4</td>\n",
              "      <td>249.2</td>\n",
              "      <td>8.0</td>\n",
              "      <td>11.0</td>\n",
              "      <td>32.6</td>\n",
              "      <td>53.4</td>\n",
              "      <td>3.2</td>\n",
              "      <td>74.3</td>\n",
              "    </tr>\n",
              "    <tr>\n",
              "      <th>std</th>\n",
              "      <td>454223.4</td>\n",
              "      <td>8463.5</td>\n",
              "      <td>23429.1</td>\n",
              "      <td>340.0</td>\n",
              "      <td>2497.2</td>\n",
              "      <td>63.0</td>\n",
              "      <td>120.2</td>\n",
              "      <td>3.0</td>\n",
              "      <td>2797257.7</td>\n",
              "      <td>56991.6</td>\n",
              "      <td>53.0</td>\n",
              "      <td>1.1</td>\n",
              "      <td>51833.1</td>\n",
              "      <td>0.9</td>\n",
              "      <td>30.3</td>\n",
              "      <td>6.420450e+08</td>\n",
              "      <td>1687.9</td>\n",
              "      <td>9.0</td>\n",
              "      <td>6.4</td>\n",
              "      <td>4.4</td>\n",
              "      <td>20758.3</td>\n",
              "      <td>18.6</td>\n",
              "      <td>118.1</td>\n",
              "      <td>4.1</td>\n",
              "      <td>10.5</td>\n",
              "      <td>13.3</td>\n",
              "      <td>31.4</td>\n",
              "      <td>2.6</td>\n",
              "      <td>7.3</td>\n",
              "    </tr>\n",
              "    <tr>\n",
              "      <th>min</th>\n",
              "      <td>0.0</td>\n",
              "      <td>-29726.0</td>\n",
              "      <td>0.0</td>\n",
              "      <td>-1918.0</td>\n",
              "      <td>0.0</td>\n",
              "      <td>-437.9</td>\n",
              "      <td>0.0</td>\n",
              "      <td>-41.0</td>\n",
              "      <td>1.0</td>\n",
              "      <td>-3743.0</td>\n",
              "      <td>0.0</td>\n",
              "      <td>-0.4</td>\n",
              "      <td>0.0</td>\n",
              "      <td>0.0</td>\n",
              "      <td>0.0</td>\n",
              "      <td>8.090000e+02</td>\n",
              "      <td>0.1</td>\n",
              "      <td>15.1</td>\n",
              "      <td>1.1</td>\n",
              "      <td>0.5</td>\n",
              "      <td>661.2</td>\n",
              "      <td>0.1</td>\n",
              "      <td>79.4</td>\n",
              "      <td>1.0</td>\n",
              "      <td>0.1</td>\n",
              "      <td>7.7</td>\n",
              "      <td>1.2</td>\n",
              "      <td>0.1</td>\n",
              "      <td>53.3</td>\n",
              "    </tr>\n",
              "    <tr>\n",
              "      <th>25%</th>\n",
              "      <td>19.0</td>\n",
              "      <td>0.0</td>\n",
              "      <td>0.0</td>\n",
              "      <td>0.0</td>\n",
              "      <td>7.0</td>\n",
              "      <td>0.0</td>\n",
              "      <td>0.0</td>\n",
              "      <td>0.0</td>\n",
              "      <td>25861.5</td>\n",
              "      <td>848.5</td>\n",
              "      <td>1.5</td>\n",
              "      <td>0.1</td>\n",
              "      <td>934.0</td>\n",
              "      <td>0.1</td>\n",
              "      <td>38.0</td>\n",
              "      <td>1.886202e+06</td>\n",
              "      <td>39.5</td>\n",
              "      <td>24.9</td>\n",
              "      <td>3.7</td>\n",
              "      <td>2.2</td>\n",
              "      <td>6171.9</td>\n",
              "      <td>0.5</td>\n",
              "      <td>152.8</td>\n",
              "      <td>5.3</td>\n",
              "      <td>1.9</td>\n",
              "      <td>21.4</td>\n",
              "      <td>22.9</td>\n",
              "      <td>1.4</td>\n",
              "      <td>70.6</td>\n",
              "    </tr>\n",
              "    <tr>\n",
              "      <th>50%</th>\n",
              "      <td>362.0</td>\n",
              "      <td>5.0</td>\n",
              "      <td>8.0</td>\n",
              "      <td>0.0</td>\n",
              "      <td>129.1</td>\n",
              "      <td>0.7</td>\n",
              "      <td>1.7</td>\n",
              "      <td>0.0</td>\n",
              "      <td>110584.0</td>\n",
              "      <td>2885.0</td>\n",
              "      <td>8.5</td>\n",
              "      <td>0.2</td>\n",
              "      <td>3192.0</td>\n",
              "      <td>0.2</td>\n",
              "      <td>68.5</td>\n",
              "      <td>8.947027e+06</td>\n",
              "      <td>90.7</td>\n",
              "      <td>31.8</td>\n",
              "      <td>7.2</td>\n",
              "      <td>4.5</td>\n",
              "      <td>15183.6</td>\n",
              "      <td>1.7</td>\n",
              "      <td>236.0</td>\n",
              "      <td>7.1</td>\n",
              "      <td>6.9</td>\n",
              "      <td>31.4</td>\n",
              "      <td>59.6</td>\n",
              "      <td>2.5</td>\n",
              "      <td>75.9</td>\n",
              "    </tr>\n",
              "    <tr>\n",
              "      <th>75%</th>\n",
              "      <td>4263.0</td>\n",
              "      <td>91.0</td>\n",
              "      <td>94.0</td>\n",
              "      <td>2.0</td>\n",
              "      <td>810.9</td>\n",
              "      <td>9.8</td>\n",
              "      <td>18.7</td>\n",
              "      <td>0.1</td>\n",
              "      <td>426636.8</td>\n",
              "      <td>9495.5</td>\n",
              "      <td>37.6</td>\n",
              "      <td>0.7</td>\n",
              "      <td>9523.8</td>\n",
              "      <td>0.7</td>\n",
              "      <td>82.4</td>\n",
              "      <td>3.236600e+07</td>\n",
              "      <td>222.9</td>\n",
              "      <td>40.1</td>\n",
              "      <td>14.9</td>\n",
              "      <td>9.7</td>\n",
              "      <td>33132.3</td>\n",
              "      <td>14.8</td>\n",
              "      <td>317.8</td>\n",
              "      <td>10.1</td>\n",
              "      <td>19.6</td>\n",
              "      <td>40.9</td>\n",
              "      <td>83.7</td>\n",
              "      <td>4.2</td>\n",
              "      <td>80.1</td>\n",
              "    </tr>\n",
              "    <tr>\n",
              "      <th>max</th>\n",
              "      <td>14476729.0</td>\n",
              "      <td>258061.0</td>\n",
              "      <td>605979.0</td>\n",
              "      <td>10489.0</td>\n",
              "      <td>37016.9</td>\n",
              "      <td>4944.4</td>\n",
              "      <td>1237.6</td>\n",
              "      <td>200.0</td>\n",
              "      <td>45734327.0</td>\n",
              "      <td>851788.0</td>\n",
              "      <td>550.7</td>\n",
              "      <td>19.4</td>\n",
              "      <td>778879.0</td>\n",
              "      <td>15.1</td>\n",
              "      <td>100.0</td>\n",
              "      <td>7.794799e+09</td>\n",
              "      <td>19347.5</td>\n",
              "      <td>48.2</td>\n",
              "      <td>27.0</td>\n",
              "      <td>18.5</td>\n",
              "      <td>116935.6</td>\n",
              "      <td>77.6</td>\n",
              "      <td>724.4</td>\n",
              "      <td>23.4</td>\n",
              "      <td>44.0</td>\n",
              "      <td>78.1</td>\n",
              "      <td>99.0</td>\n",
              "      <td>13.8</td>\n",
              "      <td>86.8</td>\n",
              "    </tr>\n",
              "  </tbody>\n",
              "</table>\n",
              "</div>"
            ],
            "text/plain": [
              "       total_cases  new_cases  ...  hospital_beds_per_thousand  life_expectancy\n",
              "count      31170.0    31170.0  ...                     25843.0          31055.0\n",
              "mean       44931.5      928.9  ...                         3.2             74.3\n",
              "std       454223.4     8463.5  ...                         2.6              7.3\n",
              "min            0.0   -29726.0  ...                         0.1             53.3\n",
              "25%           19.0        0.0  ...                         1.4             70.6\n",
              "50%          362.0        5.0  ...                         2.5             75.9\n",
              "75%         4263.0       91.0  ...                         4.2             80.1\n",
              "max     14476729.0   258061.0  ...                        13.8             86.8\n",
              "\n",
              "[8 rows x 29 columns]"
            ]
          },
          "metadata": {
            "tags": []
          },
          "execution_count": 188
        }
      ]
    },
    {
      "cell_type": "code",
      "metadata": {
        "id": "Pjf_mdNCxjJ9",
        "colab_type": "code",
        "colab": {
          "base_uri": "https://localhost:8080/",
          "height": 265
        },
        "outputId": "5cc8a1b9-3382-4bc7-9ac2-9c56d57bc5b2"
      },
      "source": [
        "#Plotando o gráfico de histograma para informação de novas mortes\n",
        "dfCov.new_deaths.hist();"
      ],
      "execution_count": 189,
      "outputs": [
        {
          "output_type": "display_data",
          "data": {
            "image/png": "[encoded data removed]",
            "text/plain": [
              "<Figure size 432x288 with 1 Axes>"
            ]
          },
          "metadata": {
            "tags": [],
            "needs_background": "light"
          }
        }
      ]
    },
    {
      "cell_type": "markdown",
      "metadata": {
        "id": "gzT3YJrstpqN",
        "colab_type": "text"
      },
      "source": [
        "Observando o gráfico acima podemos verificar que para a coluna **new_deaths** existem números negativos, o que não faz muito sentido. Também podemos ver este numero após a execução do comando **describe() para linha min**.\n",
        "\n",
        "Para tratar este tipo de dado podemos fazer uma cópia do nosso dataset (por segurança) e eliminar os valores que estão destoando no nosso conjunto de dados. Nesse caso queremos limpar do nosso dataset os valores que são **MENOR QUE ZERO** para coluna **NEW_DEATHS**"
      ]
    },
    {
      "cell_type": "markdown",
      "metadata": {
        "id": "ijW69sjdu4Up",
        "colab_type": "text"
      },
      "source": [
        "***Apenas lembrando que este artigo não esta relacionado em como explicar a limpeza dos outliers (dados  que estão destoando do nosso conjunto de dados).***"
      ]
    },
    {
      "cell_type": "code",
      "metadata": {
        "id": "9YxmFNBBMHH-",
        "colab_type": "code",
        "colab": {
          "base_uri": "https://localhost:8080/",
          "height": 68
        },
        "outputId": "bc9f9277-3a9c-4aac-aa8b-37e416102008"
      },
      "source": [
        "# identificando os outliers para a variável new_deaths\n",
        "q1_25 = dfCov.new_deaths.quantile(.25)\n",
        "q3_75 = dfCov.new_deaths.quantile(.75)\n",
        "IQR_new = q3_75 - q1_25\n",
        "print('IQR da variável new_deaths: ', IQR_new)\n",
        "\n",
        "# definindo os limites                                       \n",
        "sup_new = q3_75 + 1.5 * IQR_new\n",
        "inf_new = q1_25 - 1.5 * IQR_new\n",
        "\n",
        "print('Limite superior de new_deaths: ', sup_new)\n",
        "print('Limite inferior de new deaths: ', inf_new)"
      ],
      "execution_count": 190,
      "outputs": [
        {
          "output_type": "stream",
          "text": [
            "IQR da variável new_deaths:  2.0\n",
            "Limite superior de new_deaths:  5.0\n",
            "Limite inferior de new deaths:  -3.0\n"
          ],
          "name": "stdout"
        }
      ]
    },
    {
      "cell_type": "markdown",
      "metadata": {
        "id": "jQ_pH_srv-Jl",
        "colab_type": "text"
      },
      "source": [
        "Plotando o gráfico do tipo **\"boxplot\"** para verificarmos os outliers da coluna new_deaths antes da limpeza."
      ]
    },
    {
      "cell_type": "code",
      "metadata": {
        "id": "ebZtwb4fMtXC",
        "colab_type": "code",
        "colab": {
          "base_uri": "https://localhost:8080/",
          "height": 265
        },
        "outputId": "ba9ba941-f910-4971-a400-74fad969fa92"
      },
      "source": [
        "dfCov.new_deaths.plot(kind='box', vert=False);"
      ],
      "execution_count": 191,
      "outputs": [
        {
          "output_type": "display_data",
          "data": {
            "image/png": "[encoded data removed]",
            "text/plain": [
              "<Figure size 432x288 with 1 Axes>"
            ]
          },
          "metadata": {
            "tags": [],
            "needs_background": "light"
          }
        }
      ]
    },
    {
      "cell_type": "markdown",
      "metadata": {
        "id": "GyOUgpoAva66",
        "colab_type": "text"
      },
      "source": [
        "Como explicado um pouco mais acima, faremos uma cópia do nosso dataset **\"dfCov\"** evitando assim que possíveis dados possam ser apagados indevidamente e em caso disso acontecer temos um backup. **Lembrando que queremos eliminar do nosso dataset cópia \"df_Clean\" a coluna new_deaths onde o valor é menor que zero.**"
      ]
    },
    {
      "cell_type": "code",
      "metadata": {
        "id": "NnaUtoAGQR95",
        "colab_type": "code",
        "colab": {
          "base_uri": "https://localhost:8080/",
          "height": 51
        },
        "outputId": "e7d157bf-6789-4911-d203-4b4d13100edd"
      },
      "source": [
        "# limpando o dataset\n",
        "df_clean = dfCov.copy()\n",
        "\n",
        "df_clean.drop(df_clean[df_clean.new_deaths < 0].index, axis=0, inplace=True)\n",
        "\n",
        "print('Shape antes da limpeza: ', dfCov.shape)\n",
        "print('Shape após a limpeza: ',df_clean.shape)"
      ],
      "execution_count": 192,
      "outputs": [
        {
          "output_type": "stream",
          "text": [
            "Shape antes da limpeza:  (31494, 34)\n",
            "Shape após a limpeza:  (31490, 34)\n"
          ],
          "name": "stdout"
        }
      ]
    },
    {
      "cell_type": "markdown",
      "metadata": {
        "id": "C19YYTbzwUoZ",
        "colab_type": "text"
      },
      "source": [
        "Gráfico do tipo boxplot para coluna **new_deaths** após a limpeza dos outliers."
      ]
    },
    {
      "cell_type": "code",
      "metadata": {
        "id": "335mh-U-noRM",
        "colab_type": "code",
        "colab": {
          "base_uri": "https://localhost:8080/",
          "height": 265
        },
        "outputId": "0a446cfe-d8e2-44c8-c8fe-7989333f42ef"
      },
      "source": [
        "#Plotando o gráfico já com a limpeza dos dados menor que zero para coluna new_deaths\n",
        "df_clean.new_deaths.plot(kind='box', vert=False);"
      ],
      "execution_count": 193,
      "outputs": [
        {
          "output_type": "display_data",
          "data": {
            "image/png": "[encoded data removed]",
            "text/plain": [
              "<Figure size 432x288 with 1 Axes>"
            ]
          },
          "metadata": {
            "tags": [],
            "needs_background": "light"
          }
        }
      ]
    },
    {
      "cell_type": "code",
      "metadata": {
        "id": "vyZZ7CU-AzJu",
        "colab_type": "code",
        "colab": {
          "base_uri": "https://localhost:8080/",
          "height": 265
        },
        "outputId": "2cb7e106-bae0-43b9-953e-6c1f3d2a3598"
      },
      "source": [
        "#Plotando o gráfico do tipo histograma após a limpeza dos outliers existentes.\n",
        "df_clean.new_deaths.hist();"
      ],
      "execution_count": 194,
      "outputs": [
        {
          "output_type": "display_data",
          "data": {
            "image/png": "[encoded data removed]",
            "text/plain": [
              "<Figure size 432x288 with 1 Axes>"
            ]
          },
          "metadata": {
            "tags": [],
            "needs_background": "light"
          }
        }
      ]
    },
    {
      "cell_type": "markdown",
      "metadata": {
        "id": "K3fezoj8wuoF",
        "colab_type": "text"
      },
      "source": [
        "Podemos notar no histograma acima que após a limpeza dos dados (outliers) para coluna new_detahs **NÃO EXISTEM MAIS VALORES MENOR QUE ZERO.**"
      ]
    },
    {
      "cell_type": "markdown",
      "metadata": {
        "id": "-IYRBtTtBe1o",
        "colab_type": "text"
      },
      "source": [
        "##Análise do dataset COVID19 no BRASIL"
      ]
    },
    {
      "cell_type": "markdown",
      "metadata": {
        "id": "j7XsrHuCyZ2I",
        "colab_type": "text"
      },
      "source": [
        "Como vamos analisar somente os dados voltado para o Brasil, vamos fazer uma cópia do nosso dataset original (dfCov)."
      ]
    },
    {
      "cell_type": "code",
      "metadata": {
        "id": "C0GqofrCBhO_",
        "colab_type": "code",
        "colab": {
          "base_uri": "https://localhost:8080/",
          "height": 309
        },
        "outputId": "4015e537-6c76-48d2-eaae-9a7a2a6e5bb1"
      },
      "source": [
        "#Criando uma cópia do dataset original apenas com dados do Brasil\n",
        "df_bra = dfCov.loc[dfCov.location=='Brazil'].copy()\n",
        "\n",
        "#Exibindo as cinco primeiras linhas do data set Brasil\n",
        "df_bra.head()"
      ],
      "execution_count": 195,
      "outputs": [
        {
          "output_type": "execute_result",
          "data": {
            "text/html": [
              "<div>\n",
              "<style scoped>\n",
              "    .dataframe tbody tr th:only-of-type {\n",
              "        vertical-align: middle;\n",
              "    }\n",
              "\n",
              "    .dataframe tbody tr th {\n",
              "        vertical-align: top;\n",
              "    }\n",
              "\n",
              "    .dataframe thead th {\n",
              "        text-align: right;\n",
              "    }\n",
              "</style>\n",
              "<table border=\"1\" class=\"dataframe\">\n",
              "  <thead>\n",
              "    <tr style=\"text-align: right;\">\n",
              "      <th></th>\n",
              "      <th>iso_code</th>\n",
              "      <th>continent</th>\n",
              "      <th>location</th>\n",
              "      <th>date</th>\n",
              "      <th>total_cases</th>\n",
              "      <th>new_cases</th>\n",
              "      <th>total_deaths</th>\n",
              "      <th>new_deaths</th>\n",
              "      <th>total_cases_per_million</th>\n",
              "      <th>new_cases_per_million</th>\n",
              "      <th>total_deaths_per_million</th>\n",
              "      <th>new_deaths_per_million</th>\n",
              "      <th>total_tests</th>\n",
              "      <th>new_tests</th>\n",
              "      <th>total_tests_per_thousand</th>\n",
              "      <th>new_tests_per_thousand</th>\n",
              "      <th>new_tests_smoothed</th>\n",
              "      <th>new_tests_smoothed_per_thousand</th>\n",
              "      <th>tests_units</th>\n",
              "      <th>stringency_index</th>\n",
              "      <th>population</th>\n",
              "      <th>population_density</th>\n",
              "      <th>median_age</th>\n",
              "      <th>aged_65_older</th>\n",
              "      <th>aged_70_older</th>\n",
              "      <th>gdp_per_capita</th>\n",
              "      <th>extreme_poverty</th>\n",
              "      <th>cardiovasc_death_rate</th>\n",
              "      <th>diabetes_prevalence</th>\n",
              "      <th>female_smokers</th>\n",
              "      <th>male_smokers</th>\n",
              "      <th>handwashing_facilities</th>\n",
              "      <th>hospital_beds_per_thousand</th>\n",
              "      <th>life_expectancy</th>\n",
              "    </tr>\n",
              "  </thead>\n",
              "  <tbody>\n",
              "    <tr>\n",
              "      <th>4042</th>\n",
              "      <td>BRA</td>\n",
              "      <td>South America</td>\n",
              "      <td>Brazil</td>\n",
              "      <td>2019-12-31</td>\n",
              "      <td>0.0</td>\n",
              "      <td>0.0</td>\n",
              "      <td>0.0</td>\n",
              "      <td>0.0</td>\n",
              "      <td>0.0</td>\n",
              "      <td>0.0</td>\n",
              "      <td>0.0</td>\n",
              "      <td>0.0</td>\n",
              "      <td>NaN</td>\n",
              "      <td>NaN</td>\n",
              "      <td>NaN</td>\n",
              "      <td>NaN</td>\n",
              "      <td>NaN</td>\n",
              "      <td>NaN</td>\n",
              "      <td>NaN</td>\n",
              "      <td>NaN</td>\n",
              "      <td>212559409.0</td>\n",
              "      <td>25.04</td>\n",
              "      <td>33.5</td>\n",
              "      <td>8.552</td>\n",
              "      <td>5.06</td>\n",
              "      <td>14103.452</td>\n",
              "      <td>3.4</td>\n",
              "      <td>177.961</td>\n",
              "      <td>8.11</td>\n",
              "      <td>10.1</td>\n",
              "      <td>17.9</td>\n",
              "      <td>NaN</td>\n",
              "      <td>2.2</td>\n",
              "      <td>75.88</td>\n",
              "    </tr>\n",
              "    <tr>\n",
              "      <th>4043</th>\n",
              "      <td>BRA</td>\n",
              "      <td>South America</td>\n",
              "      <td>Brazil</td>\n",
              "      <td>2020-01-01</td>\n",
              "      <td>0.0</td>\n",
              "      <td>0.0</td>\n",
              "      <td>0.0</td>\n",
              "      <td>0.0</td>\n",
              "      <td>0.0</td>\n",
              "      <td>0.0</td>\n",
              "      <td>0.0</td>\n",
              "      <td>0.0</td>\n",
              "      <td>NaN</td>\n",
              "      <td>NaN</td>\n",
              "      <td>NaN</td>\n",
              "      <td>NaN</td>\n",
              "      <td>NaN</td>\n",
              "      <td>NaN</td>\n",
              "      <td>NaN</td>\n",
              "      <td>0.0</td>\n",
              "      <td>212559409.0</td>\n",
              "      <td>25.04</td>\n",
              "      <td>33.5</td>\n",
              "      <td>8.552</td>\n",
              "      <td>5.06</td>\n",
              "      <td>14103.452</td>\n",
              "      <td>3.4</td>\n",
              "      <td>177.961</td>\n",
              "      <td>8.11</td>\n",
              "      <td>10.1</td>\n",
              "      <td>17.9</td>\n",
              "      <td>NaN</td>\n",
              "      <td>2.2</td>\n",
              "      <td>75.88</td>\n",
              "    </tr>\n",
              "    <tr>\n",
              "      <th>4044</th>\n",
              "      <td>BRA</td>\n",
              "      <td>South America</td>\n",
              "      <td>Brazil</td>\n",
              "      <td>2020-01-02</td>\n",
              "      <td>0.0</td>\n",
              "      <td>0.0</td>\n",
              "      <td>0.0</td>\n",
              "      <td>0.0</td>\n",
              "      <td>0.0</td>\n",
              "      <td>0.0</td>\n",
              "      <td>0.0</td>\n",
              "      <td>0.0</td>\n",
              "      <td>NaN</td>\n",
              "      <td>NaN</td>\n",
              "      <td>NaN</td>\n",
              "      <td>NaN</td>\n",
              "      <td>NaN</td>\n",
              "      <td>NaN</td>\n",
              "      <td>NaN</td>\n",
              "      <td>0.0</td>\n",
              "      <td>212559409.0</td>\n",
              "      <td>25.04</td>\n",
              "      <td>33.5</td>\n",
              "      <td>8.552</td>\n",
              "      <td>5.06</td>\n",
              "      <td>14103.452</td>\n",
              "      <td>3.4</td>\n",
              "      <td>177.961</td>\n",
              "      <td>8.11</td>\n",
              "      <td>10.1</td>\n",
              "      <td>17.9</td>\n",
              "      <td>NaN</td>\n",
              "      <td>2.2</td>\n",
              "      <td>75.88</td>\n",
              "    </tr>\n",
              "    <tr>\n",
              "      <th>4045</th>\n",
              "      <td>BRA</td>\n",
              "      <td>South America</td>\n",
              "      <td>Brazil</td>\n",
              "      <td>2020-01-03</td>\n",
              "      <td>0.0</td>\n",
              "      <td>0.0</td>\n",
              "      <td>0.0</td>\n",
              "      <td>0.0</td>\n",
              "      <td>0.0</td>\n",
              "      <td>0.0</td>\n",
              "      <td>0.0</td>\n",
              "      <td>0.0</td>\n",
              "      <td>NaN</td>\n",
              "      <td>NaN</td>\n",
              "      <td>NaN</td>\n",
              "      <td>NaN</td>\n",
              "      <td>NaN</td>\n",
              "      <td>NaN</td>\n",
              "      <td>NaN</td>\n",
              "      <td>0.0</td>\n",
              "      <td>212559409.0</td>\n",
              "      <td>25.04</td>\n",
              "      <td>33.5</td>\n",
              "      <td>8.552</td>\n",
              "      <td>5.06</td>\n",
              "      <td>14103.452</td>\n",
              "      <td>3.4</td>\n",
              "      <td>177.961</td>\n",
              "      <td>8.11</td>\n",
              "      <td>10.1</td>\n",
              "      <td>17.9</td>\n",
              "      <td>NaN</td>\n",
              "      <td>2.2</td>\n",
              "      <td>75.88</td>\n",
              "    </tr>\n",
              "    <tr>\n",
              "      <th>4046</th>\n",
              "      <td>BRA</td>\n",
              "      <td>South America</td>\n",
              "      <td>Brazil</td>\n",
              "      <td>2020-01-04</td>\n",
              "      <td>0.0</td>\n",
              "      <td>0.0</td>\n",
              "      <td>0.0</td>\n",
              "      <td>0.0</td>\n",
              "      <td>0.0</td>\n",
              "      <td>0.0</td>\n",
              "      <td>0.0</td>\n",
              "      <td>0.0</td>\n",
              "      <td>NaN</td>\n",
              "      <td>NaN</td>\n",
              "      <td>NaN</td>\n",
              "      <td>NaN</td>\n",
              "      <td>NaN</td>\n",
              "      <td>NaN</td>\n",
              "      <td>NaN</td>\n",
              "      <td>0.0</td>\n",
              "      <td>212559409.0</td>\n",
              "      <td>25.04</td>\n",
              "      <td>33.5</td>\n",
              "      <td>8.552</td>\n",
              "      <td>5.06</td>\n",
              "      <td>14103.452</td>\n",
              "      <td>3.4</td>\n",
              "      <td>177.961</td>\n",
              "      <td>8.11</td>\n",
              "      <td>10.1</td>\n",
              "      <td>17.9</td>\n",
              "      <td>NaN</td>\n",
              "      <td>2.2</td>\n",
              "      <td>75.88</td>\n",
              "    </tr>\n",
              "  </tbody>\n",
              "</table>\n",
              "</div>"
            ],
            "text/plain": [
              "     iso_code      continent  ... hospital_beds_per_thousand life_expectancy\n",
              "4042      BRA  South America  ...                        2.2           75.88\n",
              "4043      BRA  South America  ...                        2.2           75.88\n",
              "4044      BRA  South America  ...                        2.2           75.88\n",
              "4045      BRA  South America  ...                        2.2           75.88\n",
              "4046      BRA  South America  ...                        2.2           75.88\n",
              "\n",
              "[5 rows x 34 columns]"
            ]
          },
          "metadata": {
            "tags": []
          },
          "execution_count": 195
        }
      ]
    },
    {
      "cell_type": "markdown",
      "metadata": {
        "id": "ugN4y2zUzGuD",
        "colab_type": "text"
      },
      "source": [
        "**Vamos identificar agora quando foi registrada a primeira morte de covid19 no Brasil.** Para que não fique muito poluido a informação abaixo vamos usar o comando head(1) no final, para que seja considerado apenas a primeira linha retornada. Porém o comando **df_bra.loc[df_bra.new_deaths !=0].sort_values(by='new_deaths', ascending=True)** funciona sem erros."
      ]
    },
    {
      "cell_type": "code",
      "metadata": {
        "id": "_FhZ3pEHBiFQ",
        "colab_type": "code",
        "colab": {
          "base_uri": "https://localhost:8080/",
          "height": 117
        },
        "outputId": "ee70c5dc-1e38-4971-98bc-fd889ccc9e1a"
      },
      "source": [
        "#Verificando qual foi a data da primeira morte registrada no Brasil\n",
        "df_bra.loc[df_bra.new_deaths !=0].sort_values(by='new_deaths', ascending=True).head(1)"
      ],
      "execution_count": 196,
      "outputs": [
        {
          "output_type": "execute_result",
          "data": {
            "text/html": [
              "<div>\n",
              "<style scoped>\n",
              "    .dataframe tbody tr th:only-of-type {\n",
              "        vertical-align: middle;\n",
              "    }\n",
              "\n",
              "    .dataframe tbody tr th {\n",
              "        vertical-align: top;\n",
              "    }\n",
              "\n",
              "    .dataframe thead th {\n",
              "        text-align: right;\n",
              "    }\n",
              "</style>\n",
              "<table border=\"1\" class=\"dataframe\">\n",
              "  <thead>\n",
              "    <tr style=\"text-align: right;\">\n",
              "      <th></th>\n",
              "      <th>iso_code</th>\n",
              "      <th>continent</th>\n",
              "      <th>location</th>\n",
              "      <th>date</th>\n",
              "      <th>total_cases</th>\n",
              "      <th>new_cases</th>\n",
              "      <th>total_deaths</th>\n",
              "      <th>new_deaths</th>\n",
              "      <th>total_cases_per_million</th>\n",
              "      <th>new_cases_per_million</th>\n",
              "      <th>total_deaths_per_million</th>\n",
              "      <th>new_deaths_per_million</th>\n",
              "      <th>total_tests</th>\n",
              "      <th>new_tests</th>\n",
              "      <th>total_tests_per_thousand</th>\n",
              "      <th>new_tests_per_thousand</th>\n",
              "      <th>new_tests_smoothed</th>\n",
              "      <th>new_tests_smoothed_per_thousand</th>\n",
              "      <th>tests_units</th>\n",
              "      <th>stringency_index</th>\n",
              "      <th>population</th>\n",
              "      <th>population_density</th>\n",
              "      <th>median_age</th>\n",
              "      <th>aged_65_older</th>\n",
              "      <th>aged_70_older</th>\n",
              "      <th>gdp_per_capita</th>\n",
              "      <th>extreme_poverty</th>\n",
              "      <th>cardiovasc_death_rate</th>\n",
              "      <th>diabetes_prevalence</th>\n",
              "      <th>female_smokers</th>\n",
              "      <th>male_smokers</th>\n",
              "      <th>handwashing_facilities</th>\n",
              "      <th>hospital_beds_per_thousand</th>\n",
              "      <th>life_expectancy</th>\n",
              "    </tr>\n",
              "  </thead>\n",
              "  <tbody>\n",
              "    <tr>\n",
              "      <th>4120</th>\n",
              "      <td>BRA</td>\n",
              "      <td>South America</td>\n",
              "      <td>Brazil</td>\n",
              "      <td>2020-03-18</td>\n",
              "      <td>291.0</td>\n",
              "      <td>57.0</td>\n",
              "      <td>1.0</td>\n",
              "      <td>1.0</td>\n",
              "      <td>1.369</td>\n",
              "      <td>0.268</td>\n",
              "      <td>0.005</td>\n",
              "      <td>0.005</td>\n",
              "      <td>NaN</td>\n",
              "      <td>NaN</td>\n",
              "      <td>NaN</td>\n",
              "      <td>NaN</td>\n",
              "      <td>NaN</td>\n",
              "      <td>NaN</td>\n",
              "      <td>NaN</td>\n",
              "      <td>60.65</td>\n",
              "      <td>212559409.0</td>\n",
              "      <td>25.04</td>\n",
              "      <td>33.5</td>\n",
              "      <td>8.552</td>\n",
              "      <td>5.06</td>\n",
              "      <td>14103.452</td>\n",
              "      <td>3.4</td>\n",
              "      <td>177.961</td>\n",
              "      <td>8.11</td>\n",
              "      <td>10.1</td>\n",
              "      <td>17.9</td>\n",
              "      <td>NaN</td>\n",
              "      <td>2.2</td>\n",
              "      <td>75.88</td>\n",
              "    </tr>\n",
              "  </tbody>\n",
              "</table>\n",
              "</div>"
            ],
            "text/plain": [
              "     iso_code      continent  ... hospital_beds_per_thousand life_expectancy\n",
              "4120      BRA  South America  ...                        2.2           75.88\n",
              "\n",
              "[1 rows x 34 columns]"
            ]
          },
          "metadata": {
            "tags": []
          },
          "execution_count": 196
        }
      ]
    },
    {
      "cell_type": "code",
      "metadata": {
        "id": "2f-YbkOE3i2c",
        "colab_type": "code",
        "colab": {
          "base_uri": "https://localhost:8080/",
          "height": 34
        },
        "outputId": "908c4511-9887-4b04-faea-530259969d83"
      },
      "source": [
        "print('Verificamos que a primeira morte registrada no Brasil foi em {}'.format(df_bra.date.loc[4120]))"
      ],
      "execution_count": 197,
      "outputs": [
        {
          "output_type": "stream",
          "text": [
            "Verificamos que a primeira morte registrada no Brasil foi em 2020-03-18 00:00:00\n"
          ],
          "name": "stdout"
        }
      ]
    },
    {
      "cell_type": "markdown",
      "metadata": {
        "id": "r35EpUOL4KvR",
        "colab_type": "text"
      },
      "source": [
        "**Abaixo vamos verificar quando foi registrado o primeiro caso de covid19 no Brasil**"
      ]
    },
    {
      "cell_type": "code",
      "metadata": {
        "id": "_skfYaF7zT5Y",
        "colab_type": "code",
        "colab": {
          "base_uri": "https://localhost:8080/",
          "height": 117
        },
        "outputId": "d31d9450-ff75-4d44-b6f3-79c311c1ba3d"
      },
      "source": [
        "#Verificando qual foi a data do primeiro caso registrado no Brasil\n",
        "df_bra.loc[df_bra.new_cases !=0].sort_values(by='new_cases', ascending=True).head(1)"
      ],
      "execution_count": 198,
      "outputs": [
        {
          "output_type": "execute_result",
          "data": {
            "text/html": [
              "<div>\n",
              "<style scoped>\n",
              "    .dataframe tbody tr th:only-of-type {\n",
              "        vertical-align: middle;\n",
              "    }\n",
              "\n",
              "    .dataframe tbody tr th {\n",
              "        vertical-align: top;\n",
              "    }\n",
              "\n",
              "    .dataframe thead th {\n",
              "        text-align: right;\n",
              "    }\n",
              "</style>\n",
              "<table border=\"1\" class=\"dataframe\">\n",
              "  <thead>\n",
              "    <tr style=\"text-align: right;\">\n",
              "      <th></th>\n",
              "      <th>iso_code</th>\n",
              "      <th>continent</th>\n",
              "      <th>location</th>\n",
              "      <th>date</th>\n",
              "      <th>total_cases</th>\n",
              "      <th>new_cases</th>\n",
              "      <th>total_deaths</th>\n",
              "      <th>new_deaths</th>\n",
              "      <th>total_cases_per_million</th>\n",
              "      <th>new_cases_per_million</th>\n",
              "      <th>total_deaths_per_million</th>\n",
              "      <th>new_deaths_per_million</th>\n",
              "      <th>total_tests</th>\n",
              "      <th>new_tests</th>\n",
              "      <th>total_tests_per_thousand</th>\n",
              "      <th>new_tests_per_thousand</th>\n",
              "      <th>new_tests_smoothed</th>\n",
              "      <th>new_tests_smoothed_per_thousand</th>\n",
              "      <th>tests_units</th>\n",
              "      <th>stringency_index</th>\n",
              "      <th>population</th>\n",
              "      <th>population_density</th>\n",
              "      <th>median_age</th>\n",
              "      <th>aged_65_older</th>\n",
              "      <th>aged_70_older</th>\n",
              "      <th>gdp_per_capita</th>\n",
              "      <th>extreme_poverty</th>\n",
              "      <th>cardiovasc_death_rate</th>\n",
              "      <th>diabetes_prevalence</th>\n",
              "      <th>female_smokers</th>\n",
              "      <th>male_smokers</th>\n",
              "      <th>handwashing_facilities</th>\n",
              "      <th>hospital_beds_per_thousand</th>\n",
              "      <th>life_expectancy</th>\n",
              "    </tr>\n",
              "  </thead>\n",
              "  <tbody>\n",
              "    <tr>\n",
              "      <th>4099</th>\n",
              "      <td>BRA</td>\n",
              "      <td>South America</td>\n",
              "      <td>Brazil</td>\n",
              "      <td>2020-02-26</td>\n",
              "      <td>1.0</td>\n",
              "      <td>1.0</td>\n",
              "      <td>0.0</td>\n",
              "      <td>0.0</td>\n",
              "      <td>0.005</td>\n",
              "      <td>0.005</td>\n",
              "      <td>0.0</td>\n",
              "      <td>0.0</td>\n",
              "      <td>NaN</td>\n",
              "      <td>NaN</td>\n",
              "      <td>NaN</td>\n",
              "      <td>NaN</td>\n",
              "      <td>NaN</td>\n",
              "      <td>NaN</td>\n",
              "      <td>NaN</td>\n",
              "      <td>5.56</td>\n",
              "      <td>212559409.0</td>\n",
              "      <td>25.04</td>\n",
              "      <td>33.5</td>\n",
              "      <td>8.552</td>\n",
              "      <td>5.06</td>\n",
              "      <td>14103.452</td>\n",
              "      <td>3.4</td>\n",
              "      <td>177.961</td>\n",
              "      <td>8.11</td>\n",
              "      <td>10.1</td>\n",
              "      <td>17.9</td>\n",
              "      <td>NaN</td>\n",
              "      <td>2.2</td>\n",
              "      <td>75.88</td>\n",
              "    </tr>\n",
              "  </tbody>\n",
              "</table>\n",
              "</div>"
            ],
            "text/plain": [
              "     iso_code      continent  ... hospital_beds_per_thousand life_expectancy\n",
              "4099      BRA  South America  ...                        2.2           75.88\n",
              "\n",
              "[1 rows x 34 columns]"
            ]
          },
          "metadata": {
            "tags": []
          },
          "execution_count": 198
        }
      ]
    },
    {
      "cell_type": "code",
      "metadata": {
        "id": "PKuxN0XsBhyy",
        "colab_type": "code",
        "colab": {
          "base_uri": "https://localhost:8080/",
          "height": 34
        },
        "outputId": "d457815f-6c18-4f27-91a6-245d156512d8"
      },
      "source": [
        "print('Verificamos que a primeiro caso registrado no Brasil foi em {}'.format(df_bra.date.loc[4099]))"
      ],
      "execution_count": 199,
      "outputs": [
        {
          "output_type": "stream",
          "text": [
            "Verificamos que a primeiro caso registrado no Brasil foi em 2020-02-26 00:00:00\n"
          ],
          "name": "stdout"
        }
      ]
    },
    {
      "cell_type": "markdown",
      "metadata": {
        "id": "SPcKXRpy4kBV",
        "colab_type": "text"
      },
      "source": [
        "Uma informação importante que podemos calcular é quantos dias levou para acontecer a primeira morte de covid19 registrada em comparação com o primeiro caso registrado."
      ]
    },
    {
      "cell_type": "code",
      "metadata": {
        "id": "M93ck-Ce4eAQ",
        "colab_type": "code",
        "colab": {
          "base_uri": "https://localhost:8080/",
          "height": 34
        },
        "outputId": "c7992dae-365f-4368-e2a1-d447c03298e5"
      },
      "source": [
        "#Calculando a quantidade de dias do primeiro registro de caso de covid em relação há primeira morte\n",
        "Qtd_dias = df_bra.date.loc[4120] - df_bra.date.loc[4099]\n",
        "print('Levou {} dias para que acontecesse a primeira morte por covid19 desde o primeiro registro de caso.'.format(Qtd_dias.days))"
      ],
      "execution_count": 200,
      "outputs": [
        {
          "output_type": "stream",
          "text": [
            "Levou 21 dias para que acontecesse a primeira morte por covid19 desde o primeiro registro de caso.\n"
          ],
          "name": "stdout"
        }
      ]
    },
    {
      "cell_type": "markdown",
      "metadata": {
        "id": "81P04x-j6-6p",
        "colab_type": "text"
      },
      "source": [
        "Abaixo vamos plotar alguns gráficos de linhas que podemos comparar a evolução de casos vs mortes no Brasil"
      ]
    },
    {
      "cell_type": "code",
      "metadata": {
        "id": "afC_Wt9U59hY",
        "colab_type": "code",
        "colab": {
          "base_uri": "https://localhost:8080/",
          "height": 513
        },
        "outputId": "ae78863a-8ab9-4c85-9ab4-f90d92d4eaa8"
      },
      "source": [
        "# Plotar gráficos de linha em escalas linear e logarítmica para os casos totais e mortes totais\n",
        "x = list(range(203))\n",
        "z = df_bra['total_cases']\n",
        "z2 = df_bra['total_deaths']\n",
        "\n",
        "fig, (ax1, ax2, ax3, ax4) = plt.subplots(nrows=4, ncols=1, figsize=(9, 7))\n",
        "\n",
        "ax1.set_title('Casos no Brasil')\n",
        "ax1.set_xlabel('Dias')\n",
        "ax1.set_ylabel('Casos')\n",
        "ax1.plot(x, z)\n",
        "\n",
        "ax2.set_title('Casos no Brasil (Escala logarítmica)')\n",
        "ax2.set_xlabel('Dias')\n",
        "ax2.set_ylabel('Casos')\n",
        "ax2.set_yscale('log')\n",
        "ax2.plot(x, z)\n",
        "\n",
        "ax3.set_title('Mortes no Brasil')\n",
        "ax3.set_xlabel('Dias')\n",
        "ax3.set_ylabel('Mortes')\n",
        "ax3.plot(x, z2)\n",
        "\n",
        "ax4.set_title('Mortes no Brasil (Escala logarítmica)')\n",
        "ax4.set_xlabel('Dias')\n",
        "ax4.set_ylabel('Mortes')\n",
        "ax4.set_yscale('log')\n",
        "ax4.plot(x, z2)\n",
        "\n",
        "plt.tight_layout()\n"
      ],
      "execution_count": 201,
      "outputs": [
        {
          "output_type": "display_data",
          "data": {
            "image/png": "[encoded data removed]",
            "text/plain": [
              "<Figure size 648x504 with 4 Axes>"
            ]
          },
          "metadata": {
            "tags": [],
            "needs_background": "light"
          }
        }
      ]
    },
    {
      "cell_type": "markdown",
      "metadata": {
        "id": "XKIm42_seU-i",
        "colab_type": "text"
      },
      "source": [
        "E por último vamos plotar um gráfico de linhas fazendo a comparação entre **Novos Casos vs Total de Mortes** no dataset do Brasil."
      ]
    },
    {
      "cell_type": "code",
      "metadata": {
        "id": "jYUqwuHUeVZa",
        "colab_type": "code",
        "colab": {
          "base_uri": "https://localhost:8080/",
          "height": 585
        },
        "outputId": "70365a2a-e652-4f2e-b754-7f3d22d623c4"
      },
      "source": [
        "Dias = list(range(203))\n",
        "New = df_bra['new_cases']\n",
        "Tot = df_bra['total_deaths']\n",
        "\n",
        "fig, ax1 = plt.subplots(nrows=1, ncols=1, figsize=(12, 8))\n",
        "\n",
        "ax1.set_title('Novos Casos vs Mortes no Brasil')\n",
        "ax1.set_xlabel('Dias')\n",
        "ax1.set_ylabel('Casos')\n",
        "ax1.plot(Dias, New, label='Novos Casos')\n",
        "ax1.plot(Dias, Tot, label='Total Mortes')\n",
        "ax1.legend()\n",
        "\n",
        "plt.tight_layout()"
      ],
      "execution_count": 202,
      "outputs": [
        {
          "output_type": "display_data",
          "data": {
            "image/png": "[encoded data removed]",
            "text/plain": [
              "<Figure size 864x576 with 1 Axes>"
            ]
          },
          "metadata": {
            "tags": [],
            "needs_background": "light"
          }
        }
      ]
    },
    {
      "cell_type": "markdown",
      "metadata": {
        "id": "60-kVChfLsrW",
        "colab_type": "text"
      },
      "source": [
        "## Conclusão\n",
        "\n",
        "Os dados analisados são equivalente a data atual (20/07/20) e esta base de dados (csv) é atualizado diariamente, portanto a partir do dia 21/07/20 já estará desatualizado, caso não seja analisado novamente.\n",
        "\n",
        "* Os Estados Unidos é  o país com maior numeros de casos e morte.\n",
        "* Infelizmente o Brasil teve e esta tendo um crescimento muito alto da doença.\n",
        "* Se levarmos em consideração a situação atual, os numeros de casos e mortes ainda estão crescendo.\n",
        "\n",
        "\n",
        "\n",
        "Essa foi uma analise inicial de alguns dados que foram disponibilizados pela fonte de dados. Porém outros tipos de analises podem ser realizadas. Assim com a plotagem de gráficos de diferentes tipos."
      ]
    }
  ]
}